{
 "cells": [
  {
   "cell_type": "code",
   "execution_count": 21,
   "metadata": {},
   "outputs": [
    {
     "name": "stdout",
     "output_type": "stream",
     "text": [
      "Total fare: £5.00\n"
     ]
    }
   ],
   "source": [
    "\"\"\"\n",
    "\n",
    "The purpose of the first program (Uber Fare) is to\n",
    "calculate the total fare price based on the distance\n",
    "a person travels. A function is used to calculate this\n",
    "value and returned.\n",
    "\n",
    "\"\"\"\n",
    "\n",
    "# Uber rates (£)\n",
    "base_rate = 2.50\n",
    "mile_rate = 1.25\n",
    "\n",
    "\n",
    "# function to calculate price\n",
    "def total_fare(distance):\n",
    "    \n",
    "    # ensure a negative value for a distance cannot be entered\n",
    "    if distance < 0:\n",
    "        raise ValueError(\"Distance must be greater than 0\")\n",
    "    \n",
    "    \n",
    "    # return calculation\n",
    "    return base_rate + (mile_rate * distance)\n",
    "\n",
    "\n",
    "# calculate fare price with a given distance\n",
    "fare = total_fare(2)\n",
    "\n",
    "# output fare price\n",
    "print(\"Total fare: \" + \"£{:,.2f}\".format(fare))"
   ]
  },
  {
   "cell_type": "code",
   "execution_count": 47,
   "metadata": {},
   "outputs": [
    {
     "name": "stdout",
     "output_type": "stream",
     "text": [
      "Enter a word: test\n",
      "Enter a word: another\n",
      "Enter a word: test\n",
      "Enter a word: house\n",
      "Enter a word: \n",
      "\n",
      "test\n",
      "another\n",
      "house\n"
     ]
    }
   ],
   "source": [
    "\"\"\"\n",
    "\n",
    "The second program (Avoiding Duplicates)\n",
    "\n",
    "\n",
    "\"\"\"\n",
    "\n",
    "words = []\n",
    "\n",
    "# \n",
    "exit_flag = False\n",
    "\n",
    "while True:\n",
    "    # Ensure a user enters a valid string\n",
    "    while True:\n",
    "        word = input(\"Enter a word: \")\n",
    "\n",
    "        # break out early if user enters nothing\n",
    "        if word == \"\":\n",
    "            exit_flag = True\n",
    "            break\n",
    "\n",
    "        # check if inputted string contains only letters\n",
    "        if not word.isalpha():\n",
    "            print(\"Error: Only strings are accepted\")\n",
    "        else:\n",
    "            break\n",
    "    \n",
    "    # exit loop if user enters nothing\n",
    "    if exit_flag:\n",
    "        break\n",
    "\n",
    "    # if the inputted word is not already in the list then add it\n",
    "    # TODO: Check if this is efficient\n",
    "    if word not in words:\n",
    "        words.append(word)\n",
    "    \n",
    "    \n",
    "print(\"\")\n",
    "\n",
    "# output the inputted word\n",
    "for word in words:\n",
    "    print(word)\n"
   ]
  },
  {
   "cell_type": "code",
   "execution_count": null,
   "metadata": {},
   "outputs": [],
   "source": []
  }
 ],
 "metadata": {
  "kernelspec": {
   "display_name": "Python 3",
   "language": "python",
   "name": "python3"
  },
  "language_info": {
   "codemirror_mode": {
    "name": "ipython",
    "version": 3
   },
   "file_extension": ".py",
   "mimetype": "text/x-python",
   "name": "python",
   "nbconvert_exporter": "python",
   "pygments_lexer": "ipython3",
   "version": "3.8.3"
  }
 },
 "nbformat": 4,
 "nbformat_minor": 4
}
